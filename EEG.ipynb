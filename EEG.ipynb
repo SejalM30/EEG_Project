{
  "nbformat": 4,
  "nbformat_minor": 0,
  "metadata": {
    "colab": {
      "provenance": [],
      "gpuType": "T4",
      "authorship_tag": "ABX9TyOhkkhgzGmMk7ovbz5qlU/I",
      "include_colab_link": true
    },
    "kernelspec": {
      "name": "python3",
      "display_name": "Python 3"
    },
    "language_info": {
      "name": "python"
    },
    "accelerator": "GPU"
  },
  "cells": [
    {
      "cell_type": "markdown",
      "metadata": {
        "id": "view-in-github",
        "colab_type": "text"
      },
      "source": [
        "<a href=\"https://colab.research.google.com/github/SejalM30/EEG_Project/blob/main/EEG.ipynb\" target=\"_parent\"><img src=\"https://colab.research.google.com/assets/colab-badge.svg\" alt=\"Open In Colab\"/></a>"
      ]
    },
    {
      "cell_type": "code",
      "execution_count": 1,
      "metadata": {
        "colab": {
          "base_uri": "https://localhost:8080/"
        },
        "id": "pIQVXnh6uNgn",
        "outputId": "592e7de9-c3fd-46bf-dd54-7a70649b760d"
      },
      "outputs": [
        {
          "output_type": "stream",
          "name": "stdout",
          "text": [
            "/content/eeg_project\n"
          ]
        }
      ],
      "source": [
        "# Setup\n",
        "!mkdir -p /content/eeg_project/data /content/eeg_project/outputs\n",
        "%cd /content/eeg_project\n",
        "\n",
        "!pip install -q numpy pandas scikit-learn matplotlib seaborn torch tqdm scipy\n"
      ]
    },
    {
      "cell_type": "code",
      "source": [
        "from google.colab import files\n",
        "uploaded = files.upload()\n"
      ],
      "metadata": {
        "colab": {
          "base_uri": "https://localhost:8080/",
          "height": 73
        },
        "id": "yOA6RUbjuaR6",
        "outputId": "05252bc9-3fc3-49b3-a51a-95a03fcafa46"
      },
      "execution_count": 2,
      "outputs": [
        {
          "output_type": "display_data",
          "data": {
            "text/plain": [
              "<IPython.core.display.HTML object>"
            ],
            "text/html": [
              "\n",
              "     <input type=\"file\" id=\"files-1011997a-4e70-448f-84a7-7bd77fd489ff\" name=\"files[]\" multiple disabled\n",
              "        style=\"border:none\" />\n",
              "     <output id=\"result-1011997a-4e70-448f-84a7-7bd77fd489ff\">\n",
              "      Upload widget is only available when the cell has been executed in the\n",
              "      current browser session. Please rerun this cell to enable.\n",
              "      </output>\n",
              "      <script>// Copyright 2017 Google LLC\n",
              "//\n",
              "// Licensed under the Apache License, Version 2.0 (the \"License\");\n",
              "// you may not use this file except in compliance with the License.\n",
              "// You may obtain a copy of the License at\n",
              "//\n",
              "//      http://www.apache.org/licenses/LICENSE-2.0\n",
              "//\n",
              "// Unless required by applicable law or agreed to in writing, software\n",
              "// distributed under the License is distributed on an \"AS IS\" BASIS,\n",
              "// WITHOUT WARRANTIES OR CONDITIONS OF ANY KIND, either express or implied.\n",
              "// See the License for the specific language governing permissions and\n",
              "// limitations under the License.\n",
              "\n",
              "/**\n",
              " * @fileoverview Helpers for google.colab Python module.\n",
              " */\n",
              "(function(scope) {\n",
              "function span(text, styleAttributes = {}) {\n",
              "  const element = document.createElement('span');\n",
              "  element.textContent = text;\n",
              "  for (const key of Object.keys(styleAttributes)) {\n",
              "    element.style[key] = styleAttributes[key];\n",
              "  }\n",
              "  return element;\n",
              "}\n",
              "\n",
              "// Max number of bytes which will be uploaded at a time.\n",
              "const MAX_PAYLOAD_SIZE = 100 * 1024;\n",
              "\n",
              "function _uploadFiles(inputId, outputId) {\n",
              "  const steps = uploadFilesStep(inputId, outputId);\n",
              "  const outputElement = document.getElementById(outputId);\n",
              "  // Cache steps on the outputElement to make it available for the next call\n",
              "  // to uploadFilesContinue from Python.\n",
              "  outputElement.steps = steps;\n",
              "\n",
              "  return _uploadFilesContinue(outputId);\n",
              "}\n",
              "\n",
              "// This is roughly an async generator (not supported in the browser yet),\n",
              "// where there are multiple asynchronous steps and the Python side is going\n",
              "// to poll for completion of each step.\n",
              "// This uses a Promise to block the python side on completion of each step,\n",
              "// then passes the result of the previous step as the input to the next step.\n",
              "function _uploadFilesContinue(outputId) {\n",
              "  const outputElement = document.getElementById(outputId);\n",
              "  const steps = outputElement.steps;\n",
              "\n",
              "  const next = steps.next(outputElement.lastPromiseValue);\n",
              "  return Promise.resolve(next.value.promise).then((value) => {\n",
              "    // Cache the last promise value to make it available to the next\n",
              "    // step of the generator.\n",
              "    outputElement.lastPromiseValue = value;\n",
              "    return next.value.response;\n",
              "  });\n",
              "}\n",
              "\n",
              "/**\n",
              " * Generator function which is called between each async step of the upload\n",
              " * process.\n",
              " * @param {string} inputId Element ID of the input file picker element.\n",
              " * @param {string} outputId Element ID of the output display.\n",
              " * @return {!Iterable<!Object>} Iterable of next steps.\n",
              " */\n",
              "function* uploadFilesStep(inputId, outputId) {\n",
              "  const inputElement = document.getElementById(inputId);\n",
              "  inputElement.disabled = false;\n",
              "\n",
              "  const outputElement = document.getElementById(outputId);\n",
              "  outputElement.innerHTML = '';\n",
              "\n",
              "  const pickedPromise = new Promise((resolve) => {\n",
              "    inputElement.addEventListener('change', (e) => {\n",
              "      resolve(e.target.files);\n",
              "    });\n",
              "  });\n",
              "\n",
              "  const cancel = document.createElement('button');\n",
              "  inputElement.parentElement.appendChild(cancel);\n",
              "  cancel.textContent = 'Cancel upload';\n",
              "  const cancelPromise = new Promise((resolve) => {\n",
              "    cancel.onclick = () => {\n",
              "      resolve(null);\n",
              "    };\n",
              "  });\n",
              "\n",
              "  // Wait for the user to pick the files.\n",
              "  const files = yield {\n",
              "    promise: Promise.race([pickedPromise, cancelPromise]),\n",
              "    response: {\n",
              "      action: 'starting',\n",
              "    }\n",
              "  };\n",
              "\n",
              "  cancel.remove();\n",
              "\n",
              "  // Disable the input element since further picks are not allowed.\n",
              "  inputElement.disabled = true;\n",
              "\n",
              "  if (!files) {\n",
              "    return {\n",
              "      response: {\n",
              "        action: 'complete',\n",
              "      }\n",
              "    };\n",
              "  }\n",
              "\n",
              "  for (const file of files) {\n",
              "    const li = document.createElement('li');\n",
              "    li.append(span(file.name, {fontWeight: 'bold'}));\n",
              "    li.append(span(\n",
              "        `(${file.type || 'n/a'}) - ${file.size} bytes, ` +\n",
              "        `last modified: ${\n",
              "            file.lastModifiedDate ? file.lastModifiedDate.toLocaleDateString() :\n",
              "                                    'n/a'} - `));\n",
              "    const percent = span('0% done');\n",
              "    li.appendChild(percent);\n",
              "\n",
              "    outputElement.appendChild(li);\n",
              "\n",
              "    const fileDataPromise = new Promise((resolve) => {\n",
              "      const reader = new FileReader();\n",
              "      reader.onload = (e) => {\n",
              "        resolve(e.target.result);\n",
              "      };\n",
              "      reader.readAsArrayBuffer(file);\n",
              "    });\n",
              "    // Wait for the data to be ready.\n",
              "    let fileData = yield {\n",
              "      promise: fileDataPromise,\n",
              "      response: {\n",
              "        action: 'continue',\n",
              "      }\n",
              "    };\n",
              "\n",
              "    // Use a chunked sending to avoid message size limits. See b/62115660.\n",
              "    let position = 0;\n",
              "    do {\n",
              "      const length = Math.min(fileData.byteLength - position, MAX_PAYLOAD_SIZE);\n",
              "      const chunk = new Uint8Array(fileData, position, length);\n",
              "      position += length;\n",
              "\n",
              "      const base64 = btoa(String.fromCharCode.apply(null, chunk));\n",
              "      yield {\n",
              "        response: {\n",
              "          action: 'append',\n",
              "          file: file.name,\n",
              "          data: base64,\n",
              "        },\n",
              "      };\n",
              "\n",
              "      let percentDone = fileData.byteLength === 0 ?\n",
              "          100 :\n",
              "          Math.round((position / fileData.byteLength) * 100);\n",
              "      percent.textContent = `${percentDone}% done`;\n",
              "\n",
              "    } while (position < fileData.byteLength);\n",
              "  }\n",
              "\n",
              "  // All done.\n",
              "  yield {\n",
              "    response: {\n",
              "      action: 'complete',\n",
              "    }\n",
              "  };\n",
              "}\n",
              "\n",
              "scope.google = scope.google || {};\n",
              "scope.google.colab = scope.google.colab || {};\n",
              "scope.google.colab._files = {\n",
              "  _uploadFiles,\n",
              "  _uploadFilesContinue,\n",
              "};\n",
              "})(self);\n",
              "</script> "
            ]
          },
          "metadata": {}
        },
        {
          "output_type": "stream",
          "name": "stdout",
          "text": [
            "Saving EEG_data.csv to EEG_data.csv\n"
          ]
        }
      ]
    },
    {
      "cell_type": "code",
      "source": [
        "# Imports and inspect\n",
        "import os, random, math, time\n",
        "from pathlib import Path\n",
        "import numpy as np, pandas as pd\n",
        "from sklearn.cluster import KMeans\n",
        "from sklearn.preprocessing import StandardScaler\n",
        "from sklearn.decomposition import PCA\n",
        "from sklearn.model_selection import GroupKFold\n",
        "from sklearn.metrics import accuracy_score, classification_report, confusion_matrix\n",
        "import matplotlib.pyplot as plt, seaborn as sns\n",
        "import torch, torch.nn as nn\n",
        "from torch.utils.data import Dataset, DataLoader\n",
        "from tqdm import tqdm\n",
        "from scipy.signal import welch\n",
        "\n",
        "DATA_PATH = Path(\"EEG_data.csv\")\n",
        "df = pd.read_csv(DATA_PATH)\n",
        "print(\"Loaded:\", DATA_PATH, \"shape:\", df.shape)\n",
        "print(\"Unique students:\", df[\"subject_id\"].nunique())\n",
        "print(\"Label distribution (subject_understood):\")\n",
        "print(df[\"subject_understood\"].value_counts())\n",
        "# Features present\n",
        "POW_COLS = [c for c in df.columns if c.startswith(\"POW.\")]\n",
        "EEG_COLS = [c for c in df.columns if c.startswith(\"EEG.\")]\n",
        "print(\"Found POW cols:\", len(POW_COLS), \"Found EEG cols:\", len(EEG_COLS))\n"
      ],
      "metadata": {
        "colab": {
          "base_uri": "https://localhost:8080/"
        },
        "id": "oOeR4nBQwiP-",
        "outputId": "2a541c39-06ad-4d80-c198-c34a8836c6d0"
      },
      "execution_count": 3,
      "outputs": [
        {
          "output_type": "stream",
          "name": "stdout",
          "text": [
            "Loaded: EEG_data.csv shape: (68831, 87)\n",
            "Unique students: 8\n",
            "Label distribution (subject_understood):\n",
            "subject_understood\n",
            "1    54370\n",
            "0    14461\n",
            "Name: count, dtype: int64\n",
            "Found POW cols: 70 Found EEG cols: 14\n"
          ]
        }
      ]
    },
    {
      "cell_type": "code",
      "source": [
        "# Compute per-subject mean POW vector\n",
        "sub_means = df.groupby(\"subject_id\")[POW_COLS].mean()\n",
        "print(\"Per-subject POW mean shape:\", sub_means.shape)\n",
        "\n",
        "# Standardize\n",
        "scaler = StandardScaler()\n",
        "X_sub = scaler.fit_transform(sub_means.values)\n",
        "\n",
        "# KMeans k=3\n",
        "kmeans = KMeans(n_clusters=3, random_state=42, n_init=20)\n",
        "sub_clusters = kmeans.fit_predict(X_sub)\n",
        "\n",
        "# Add cluster column\n",
        "sub_means[\"cluster\"] = sub_clusters\n",
        "\n",
        "# Reset index to make subject_id a column\n",
        "sub_means = sub_means.reset_index()\n",
        "\n",
        "print(\"Cluster counts (original subjects):\")\n",
        "print(pd.Series(sub_clusters).value_counts())\n",
        "\n",
        "# Map cluster id -> cognitive label\n",
        "alpha_cols = [c for c in POW_COLS if \".Alpha\" in c]\n",
        "if len(alpha_cols) == 0:\n",
        "    alpha_means = sub_means[POW_COLS].mean(axis=1)\n",
        "else:\n",
        "    alpha_means = sub_means[alpha_cols].mean(axis=1)\n",
        "\n",
        "cluster_alpha = sub_means.groupby(\"cluster\")[alpha_cols].mean().mean(axis=1) if len(alpha_cols)>0 else sub_means.groupby(\"cluster\")[POW_COLS].mean().mean(axis=1)\n",
        "cluster_order = cluster_alpha.sort_values().index.tolist()\n",
        "\n",
        "label_map_cluster = {\n",
        "    cluster_order[0]: \"Naive\",\n",
        "    cluster_order[1]: \"Developing\",\n",
        "    cluster_order[2]: \"Sophisticated\"\n",
        "}\n",
        "\n",
        "subject_label_map = {int(r[\"subject_id\"]): label_map_cluster[int(r[\"cluster\"])] for _, r in sub_means.iterrows()}\n",
        "print(\"Cluster -> label map:\", label_map_cluster)\n",
        "print(\"Subject -> assigned label (original subjects):\")\n",
        "for sid in subject_label_map:\n",
        "    print(sid, subject_label_map[sid])\n"
      ],
      "metadata": {
        "colab": {
          "base_uri": "https://localhost:8080/"
        },
        "id": "dyLnYn5lxBHY",
        "outputId": "2c579451-cc04-4789-c5f0-83801fbb9c5a"
      },
      "execution_count": 4,
      "outputs": [
        {
          "output_type": "stream",
          "name": "stdout",
          "text": [
            "Per-subject POW mean shape: (8, 70)\n",
            "Cluster counts (original subjects):\n",
            "1    5\n",
            "0    2\n",
            "2    1\n",
            "Name: count, dtype: int64\n",
            "Cluster -> label map: {1: 'Naive', 0: 'Developing', 2: 'Sophisticated'}\n",
            "Subject -> assigned label (original subjects):\n",
            "0 Naive\n",
            "1 Naive\n",
            "2 Sophisticated\n",
            "3 Naive\n",
            "4 Naive\n",
            "5 Developing\n",
            "6 Developing\n",
            "7 Naive\n"
          ]
        }
      ]
    },
    {
      "cell_type": "code",
      "source": [
        "# Visualize cluster separation with PCA for debug\n",
        "pca = PCA(n_components=2)\n",
        "X_pca = pca.fit_transform(X_sub)\n",
        "plt.figure(figsize=(6,5))\n",
        "sns.scatterplot(x=X_pca[:,0], y=X_pca[:,1], hue=sub_clusters, palette=\"Set2\", s=100)\n",
        "for i, sid in enumerate(sub_means.index):\n",
        "    plt.text(X_pca[i,0]+0.01, X_pca[i,1]+0.01, str(sid), fontsize=9)\n",
        "plt.title(\"Per-subject POW clustering (PCA 2D)\")\n",
        "plt.show()\n"
      ],
      "metadata": {
        "colab": {
          "base_uri": "https://localhost:8080/",
          "height": 468
        },
        "id": "Bnyv0PlBx-YC",
        "outputId": "938a140c-ef8f-4ca4-b0ed-142b70f0e9de"
      },
      "execution_count": 5,
      "outputs": [
        {
          "output_type": "display_data",
          "data": {
            "text/plain": [
              "<Figure size 600x500 with 1 Axes>"
            ],
            "image/png": "[encoded data removed]"
          },
          "metadata": {}
        }
      ]
    },
    {
      "cell_type": "code",
      "source": [
        "#  prepare time-series grouped by subject and video to sample from.\n",
        "# We'll extract sequences from EEG channels for augmentation and epoch creation.\n",
        "\n",
        "# ensure data sorted by subject_id and video_id (and time if exists)\n",
        "group_cols = [\"subject_id\",\"video_id\"]\n",
        "if \"time\" in df.columns:\n",
        "    group_cols.append(\"time\")\n",
        "df_sorted = df.sort_values(group_cols).reset_index(drop=True)\n",
        "\n",
        "# aggregate per (subject,video) continuous arrays\n",
        "grouped = {}\n",
        "for (sid, vid), g in df_sorted.groupby([\"subject_id\",\"video_id\"]):\n",
        "    arr = g[EEG_COLS].values  # shape (n_samples, n_channels)\n",
        "    grouped[(int(sid), int(vid))] = arr\n",
        "\n",
        "print(\"Prepared grouped arrays for (subject,video). Example count:\", len(grouped))\n"
      ],
      "metadata": {
        "colab": {
          "base_uri": "https://localhost:8080/"
        },
        "id": "EPL0NqYSyLOD",
        "outputId": "b2114d98-2f3b-449c-8a39-b04688b5e4ef"
      },
      "execution_count": 6,
      "outputs": [
        {
          "output_type": "stream",
          "name": "stdout",
          "text": [
            "Prepared grouped arrays for (subject,video). Example count: 11\n"
          ]
        }
      ]
    },
    {
      "cell_type": "code",
      "source": [
        "# Simulation params and augment functions\n",
        "NUM_SYNTHETIC_STUDENTS = 1000\n",
        "EPOCH_SECONDS = 4\n",
        "FS = 128   # assumed sampling rate; used only for epoch length in samples\n",
        "SEQ_LEN = int(FS * EPOCH_SECONDS)   # 512\n",
        "EPOCHS_PER_STUDENT = 20   # number of epochs to synthesize per synthetic student (tuneable)\n",
        "STRIDE = SEQ_LEN // 2     # not used here; we randomly sample starts\n",
        "AUG_NOISE_STD = 0.01      # relative noise\n",
        "AUG_SCALE_RANGE = (0.9, 1.1)\n",
        "\n",
        "random.seed(42)\n",
        "np.random.seed(42)\n",
        "\n",
        "def augment_segment(seg):\n",
        "    # seg: numpy array (seq_len, n_channels)\n",
        "    # 1) small amplitude scaling per channel\n",
        "    scale = np.random.uniform(AUG_SCALE_RANGE[0], AUG_SCALE_RANGE[1], size=(seg.shape[1],))\n",
        "    seg = seg * scale.reshape(1,-1)\n",
        "    # 2) add gaussian noise relative to std\n",
        "    noise = np.random.normal(0, AUG_NOISE_STD * np.std(seg, axis=0, keepdims=True), seg.shape)\n",
        "    seg = seg + noise\n",
        "    return seg\n",
        "\n",
        "# Build mapping: cluster -> list of source (subject,video) keys\n",
        "cluster_to_sources = {}\n",
        "for subj in sub_means.index:\n",
        "    cluster_id = int(sub_means.loc[subj,\"cluster\"])\n",
        "    sources = [k for k in grouped.keys() if k[0] == int(subj)]\n",
        "    if sources:\n",
        "        cluster_to_sources.setdefault(cluster_id, []).extend(sources)\n",
        "\n",
        "for c in cluster_to_sources:\n",
        "    print(\"Cluster\", c, \"source groups:\", len(cluster_to_sources[c]))\n"
      ],
      "metadata": {
        "colab": {
          "base_uri": "https://localhost:8080/"
        },
        "id": "2boY3UNryPCV",
        "outputId": "87ba314b-9944-4d2f-84f4-f87340288063"
      },
      "execution_count": 7,
      "outputs": [
        {
          "output_type": "stream",
          "name": "stdout",
          "text": [
            "Cluster 1 source groups: 8\n",
            "Cluster 2 source groups: 1\n",
            "Cluster 0 source groups: 2\n"
          ]
        }
      ]
    },
    {
      "cell_type": "code",
      "source": [
        "# Generate synthetic students\n",
        "synthetic_students = {}  # id -> dict with 'epochs' (list of arrays), 'label' (str)\n",
        "all_epochs = []\n",
        "all_labels = []\n",
        "all_student_ids = []\n",
        "\n",
        "start_time = time.time()\n",
        "for new_id in tqdm(range(NUM_SYNTHETIC_STUDENTS)):\n",
        "    # randomly choose a cluster proportional to cluster sizes (use kmeans counts)\n",
        "    cluster_choice = np.random.choice(list(sub_means['cluster'].value_counts().index), p=(sub_means['cluster'].value_counts()/sub_means['cluster'].value_counts().sum()).values)\n",
        "    # choose a random source (subject,video) from that cluster\n",
        "    sources = cluster_to_sources.get(cluster_choice)\n",
        "    if not sources:\n",
        "        # fallback to any grouped source\n",
        "        sources = list(grouped.keys())\n",
        "    # sample epochs by repeatedly picking a random source and extracting a random window\n",
        "    student_epochs = []\n",
        "    for e in range(EPOCHS_PER_STUDENT):\n",
        "        src = random.choice(sources)\n",
        "        arr = grouped[src]\n",
        "        if arr.shape[0] < SEQ_LEN:\n",
        "            # if too short, skip by sampling from other source\n",
        "            continue\n",
        "        # choose random start\n",
        "        start_idx = random.randint(0, arr.shape[0] - SEQ_LEN)\n",
        "        seg = arr[start_idx:start_idx+SEQ_LEN].copy()\n",
        "        seg = augment_segment(seg)\n",
        "        student_epochs.append(seg)\n",
        "        # save to global lists\n",
        "        all_epochs.append(seg)\n",
        "        all_labels.append(label_map_cluster[cluster_choice])  # label as text\n",
        "        all_student_ids.append(new_id)\n",
        "    synthetic_students[new_id] = {\"epochs\": student_epochs, \"label\": label_map_cluster[cluster_choice]}\n",
        "\n",
        "elapsed = time.time() - start_time\n",
        "print(f\"Created synthetic students: {len(synthetic_students)}, total epochs: {len(all_epochs)} (time {elapsed:.1f}s)\")\n",
        "all_epochs = np.stack(all_epochs)   # (N, seq_len, n_channels)\n",
        "print(\"All epochs shape:\", all_epochs.shape)\n"
      ],
      "metadata": {
        "colab": {
          "base_uri": "https://localhost:8080/"
        },
        "id": "kJavN3ucyUOC",
        "outputId": "8d24a416-e5d9-448d-842f-6232d42563b6"
      },
      "execution_count": 8,
      "outputs": [
        {
          "output_type": "stream",
          "name": "stderr",
          "text": [
            "100%|██████████| 1000/1000 [00:11<00:00, 84.41it/s]\n"
          ]
        },
        {
          "output_type": "stream",
          "name": "stdout",
          "text": [
            "Created synthetic students: 1000, total epochs: 20000 (time 11.9s)\n",
            "All epochs shape: (20000, 512, 14)\n"
          ]
        }
      ]
    },
    {
      "cell_type": "code",
      "source": [
        "#  Label encoding\n",
        "label_to_num = {\"Naive\":0, \"Developing\":1, \"Sophisticated\":2}\n",
        "y_text = np.array(all_labels)\n",
        "y_num = np.array([label_to_num[t] for t in y_text])\n",
        "groups = np.array(all_student_ids)   # synthetic student id per epoch\n",
        "\n",
        "print(\"Epochs:\", all_epochs.shape, \"Labels:\", y_num.shape, \"Unique students:\", len(np.unique(groups)))\n"
      ],
      "metadata": {
        "colab": {
          "base_uri": "https://localhost:8080/"
        },
        "id": "UsUVc5130ngb",
        "outputId": "12dd6e08-40c0-41dd-806b-323acf898cdf"
      },
      "execution_count": 9,
      "outputs": [
        {
          "output_type": "stream",
          "name": "stdout",
          "text": [
            "Epochs: (20000, 512, 14) Labels: (20000,) Unique students: 1000\n"
          ]
        }
      ]
    },
    {
      "cell_type": "code",
      "source": [
        "# Dataset & Transformer\n",
        "import torch\n",
        "from torch.utils.data import Dataset, DataLoader\n",
        "\n",
        "class EEGEpochDataset(Dataset):\n",
        "    def __init__(self, X, y, groups=None, augment=False):\n",
        "        self.X = X.astype(np.float32)\n",
        "        self.y = y.astype(np.int64)\n",
        "        self.groups = groups\n",
        "        self.augment = augment\n",
        "    def __len__(self): return len(self.X)\n",
        "    def __getitem__(self, idx):\n",
        "        x = self.X[idx].copy()\n",
        "        if self.augment:\n",
        "            x = augment_segment(x)   # additional augmentation\n",
        "        # per-epoch normalization channel-wise\n",
        "        x = (x - x.mean(axis=0)) / (x.std(axis=0) + 1e-6)\n",
        "        return torch.from_numpy(x), torch.tensor(self.y[idx])\n",
        "\n",
        "# Transformer model (encoder only)\n",
        "class SimpleEEGTransformer(nn.Module):\n",
        "    def __init__(self, n_channels, n_classes=3, d_model=128, n_heads=8, num_layers=3, d_ff=512):\n",
        "        super().__init__()\n",
        "        self.proj = nn.Linear(n_channels, d_model)\n",
        "        enc_layer = nn.TransformerEncoderLayer(d_model=d_model, nhead=n_heads, dim_feedforward=d_ff, batch_first=True)\n",
        "        self.encoder = nn.TransformerEncoder(enc_layer, num_layers=num_layers)\n",
        "        self.norm = nn.LayerNorm(d_model)\n",
        "        self.classifier = nn.Linear(d_model, n_classes)\n",
        "    def forward(self, x):   # x: (batch, seq_len, n_channels)\n",
        "        x = self.proj(x)    # -> (batch, seq_len, d_model)\n",
        "        x = self.encoder(x) # -> (batch, seq_len, d_model)\n",
        "        x = x.mean(dim=1)   # global average over time\n",
        "        x = self.norm(x)\n",
        "        return self.classifier(x)\n"
      ],
      "metadata": {
        "id": "Z0HUmPCQ01Cz"
      },
      "execution_count": 10,
      "outputs": []
    },
    {
      "cell_type": "code",
      "source": [
        "# Training loop with GroupKFold (split by synthetic student IDs)\n",
        "device = torch.device(\"cuda\" if torch.cuda.is_available() else \"cpu\")\n",
        "print(\"Device:\", device)\n",
        "\n",
        "BATCH_SIZE = 64\n",
        "LR = 1e-4\n",
        "WEIGHT_DECAY = 1e-5\n",
        "EPOCHS = 12   # raise later if needed\n",
        "NUM_WORKERS = 2\n",
        "\n",
        "unique_students = np.unique(groups)\n",
        "print(\"Total synthetic students:\", len(unique_students))\n",
        "\n",
        "gkf = GroupKFold(n_splits=5)\n",
        "fold_results = []\n",
        "\n",
        "# -------- Initialize DataFrame to store all student predictions --------\n",
        "all_student_results = pd.DataFrame(columns=[\"student_id\", \"predicted_class_num\", \"predicted_class\"])\n",
        "\n",
        "num_to_label = {0: \"Naive\", 1: \"Developing\", 2: \"Sophisticated\"}\n",
        "\n",
        "for fold, (train_idx, test_idx) in enumerate(gkf.split(all_epochs, y_num, groups), 1):\n",
        "    print(f\"\\n=== Fold {fold}/5 ===\")\n",
        "    X_tr, y_tr, g_tr = all_epochs[train_idx], y_num[train_idx], groups[train_idx]\n",
        "    X_te, y_te, g_te = all_epochs[test_idx], y_num[test_idx], groups[test_idx]\n",
        "\n",
        "    train_ds = EEGEpochDataset(X_tr, y_tr, augment=True)\n",
        "    test_ds = EEGEpochDataset(X_te, y_te, augment=False)\n",
        "    tr_loader = DataLoader(train_ds, batch_size=BATCH_SIZE, shuffle=True, num_workers=NUM_WORKERS)\n",
        "    te_loader = DataLoader(test_ds, batch_size=BATCH_SIZE, shuffle=False, num_workers=NUM_WORKERS)\n",
        "\n",
        "    model = SimpleEEGTransformer(n_channels=all_epochs.shape[2], n_classes=3).to(device)\n",
        "    opt = torch.optim.AdamW(model.parameters(), lr=LR, weight_decay=WEIGHT_DECAY)\n",
        "    crit = nn.CrossEntropyLoss()\n",
        "\n",
        "    best_val_student_acc = 0.0\n",
        "    best_state = None\n",
        "\n",
        "    for ep in range(1, EPOCHS + 1):\n",
        "        # -------- TRAIN --------\n",
        "        model.train()\n",
        "        total_loss = 0.0\n",
        "        for xb, yb in tr_loader:\n",
        "            xb, yb = xb.to(device).float(), yb.to(device)\n",
        "            opt.zero_grad()\n",
        "            out = model(xb)\n",
        "            loss = crit(out, yb)\n",
        "            loss.backward()\n",
        "            opt.step()\n",
        "            total_loss += loss.item() * xb.size(0)\n",
        "        avg_loss = total_loss / len(tr_loader.dataset)\n",
        "\n",
        "        # -------- EVALUATE --------\n",
        "        model.eval()\n",
        "        y_true_epoch, y_pred_epoch = [], []\n",
        "        with torch.no_grad():\n",
        "            for xb, yb in te_loader:\n",
        "                xb = xb.to(device).float()\n",
        "                out = model(xb)\n",
        "                p = out.argmax(dim=1).cpu().numpy()\n",
        "                y_pred_epoch.extend(p.tolist())\n",
        "                y_true_epoch.extend(yb.numpy().tolist())\n",
        "\n",
        "        # -------- PER-STUDENT MAJORITY VOTE --------\n",
        "        preds_by_student = {}\n",
        "        true_by_student = {}\n",
        "        for idx_local, global_idx in enumerate(test_idx):\n",
        "            student = int(groups[global_idx])\n",
        "            preds_by_student.setdefault(student, []).append(y_pred_epoch[idx_local])\n",
        "            true_by_student.setdefault(student, []).append(y_te[idx_local])\n",
        "\n",
        "        y_true_students, y_pred_students = [], []\n",
        "        for student in preds_by_student:\n",
        "            pred = max(set(preds_by_student[student]), key=preds_by_student[student].count)\n",
        "            true = max(set(true_by_student[student]), key=true_by_student[student].count)\n",
        "            y_true_students.append(true)\n",
        "            y_pred_students.append(pred)\n",
        "\n",
        "        # -------- Append fold student predictions to all_student_results --------\n",
        "        student_results = pd.DataFrame({\n",
        "            \"student_id\": list(preds_by_student.keys()),\n",
        "            \"predicted_class_num\": y_pred_students,\n",
        "            \"predicted_class\": [num_to_label[i] for i in y_pred_students]\n",
        "        })\n",
        "        all_student_results = pd.concat([all_student_results, student_results], ignore_index=True)\n",
        "\n",
        "        student_acc = accuracy_score(y_true_students, y_pred_students)\n",
        "        if student_acc > best_val_student_acc:\n",
        "            best_val_student_acc = student_acc\n",
        "            best_state = model.state_dict().copy()\n",
        "\n",
        "        print(f\"Epoch {ep:02d} | loss {avg_loss:.4f} | student-acc {student_acc:.4f}\")\n",
        "\n",
        "    # -------- SAVE RESULTS --------\n",
        "    fold_results.append({\"fold\": fold, \"best_student_acc\": float(best_val_student_acc)})\n",
        "    torch.save(best_state, f\"outputs/transformer_fold{fold}_best.pth\")\n",
        "    print(f\"Fold {fold} best student accuracy: {best_val_student_acc:.4f}\")\n",
        "\n",
        "# -------- AFTER ALL FOLDS --------\n",
        "print(\"\\nAll folds results:\")\n",
        "print(fold_results)\n",
        "avg_acc = np.mean([r[\"best_student_acc\"] for r in fold_results])\n",
        "print(f\"\\nMean per-student accuracy across folds: {avg_acc:.4f}\")"
      ],
      "metadata": {
        "colab": {
          "base_uri": "https://localhost:8080/"
        },
        "id": "iMVoTsfc05Ds",
        "outputId": "e61595b5-1e36-4cba-af1b-2d4b9fe930ff"
      },
      "execution_count": 20,
      "outputs": [
        {
          "output_type": "stream",
          "name": "stdout",
          "text": [
            "Device: cuda\n",
            "Total synthetic students: 1000\n",
            "\n",
            "=== Fold 1/5 ===\n",
            "Epoch 01 | loss 0.1730 | student-acc 1.0000\n",
            "Epoch 02 | loss 0.0055 | student-acc 1.0000\n",
            "Epoch 03 | loss 0.0017 | student-acc 1.0000\n",
            "Epoch 04 | loss 0.0009 | student-acc 1.0000\n",
            "Epoch 05 | loss 0.0006 | student-acc 1.0000\n",
            "Epoch 06 | loss 0.0005 | student-acc 1.0000\n",
            "Epoch 07 | loss 0.0004 | student-acc 1.0000\n",
            "Epoch 08 | loss 0.0003 | student-acc 1.0000\n",
            "Epoch 09 | loss 0.0002 | student-acc 1.0000\n",
            "Epoch 10 | loss 0.0002 | student-acc 1.0000\n",
            "Epoch 11 | loss 0.0002 | student-acc 1.0000\n",
            "Epoch 12 | loss 0.0001 | student-acc 1.0000\n",
            "Fold 1 best student accuracy: 1.0000\n",
            "\n",
            "=== Fold 2/5 ===\n",
            "Epoch 01 | loss 0.1912 | student-acc 1.0000\n",
            "Epoch 02 | loss 0.0062 | student-acc 1.0000\n",
            "Epoch 03 | loss 0.0015 | student-acc 1.0000\n",
            "Epoch 04 | loss 0.0009 | student-acc 1.0000\n",
            "Epoch 05 | loss 0.0006 | student-acc 1.0000\n",
            "Epoch 06 | loss 0.0005 | student-acc 1.0000\n",
            "Epoch 07 | loss 0.0004 | student-acc 1.0000\n",
            "Epoch 08 | loss 0.0003 | student-acc 1.0000\n",
            "Epoch 09 | loss 0.0003 | student-acc 1.0000\n",
            "Epoch 10 | loss 0.0002 | student-acc 1.0000\n",
            "Epoch 11 | loss 0.0002 | student-acc 1.0000\n",
            "Epoch 12 | loss 0.0002 | student-acc 1.0000\n",
            "Fold 2 best student accuracy: 1.0000\n",
            "\n",
            "=== Fold 3/5 ===\n",
            "Epoch 01 | loss 0.1482 | student-acc 1.0000\n",
            "Epoch 02 | loss 0.0045 | student-acc 1.0000\n",
            "Epoch 03 | loss 0.0018 | student-acc 1.0000\n",
            "Epoch 04 | loss 0.0010 | student-acc 1.0000\n",
            "Epoch 05 | loss 0.0007 | student-acc 1.0000\n",
            "Epoch 06 | loss 0.0005 | student-acc 1.0000\n",
            "Epoch 07 | loss 0.0004 | student-acc 1.0000\n",
            "Epoch 08 | loss 0.0003 | student-acc 1.0000\n",
            "Epoch 09 | loss 0.0003 | student-acc 1.0000\n",
            "Epoch 10 | loss 0.0002 | student-acc 1.0000\n",
            "Epoch 11 | loss 0.0002 | student-acc 1.0000\n",
            "Epoch 12 | loss 0.0002 | student-acc 1.0000\n",
            "Fold 3 best student accuracy: 1.0000\n",
            "\n",
            "=== Fold 4/5 ===\n",
            "Epoch 01 | loss 0.1720 | student-acc 1.0000\n",
            "Epoch 02 | loss 0.0061 | student-acc 1.0000\n",
            "Epoch 03 | loss 0.0017 | student-acc 1.0000\n",
            "Epoch 04 | loss 0.0011 | student-acc 1.0000\n",
            "Epoch 05 | loss 0.0008 | student-acc 1.0000\n",
            "Epoch 06 | loss 0.0006 | student-acc 1.0000\n",
            "Epoch 07 | loss 0.0005 | student-acc 1.0000\n",
            "Epoch 08 | loss 0.0004 | student-acc 1.0000\n",
            "Epoch 09 | loss 0.0003 | student-acc 1.0000\n",
            "Epoch 10 | loss 0.0003 | student-acc 1.0000\n",
            "Epoch 11 | loss 0.0002 | student-acc 1.0000\n",
            "Epoch 12 | loss 0.0002 | student-acc 1.0000\n",
            "Fold 4 best student accuracy: 1.0000\n",
            "\n",
            "=== Fold 5/5 ===\n",
            "Epoch 01 | loss 0.2193 | student-acc 1.0000\n",
            "Epoch 02 | loss 0.0059 | student-acc 1.0000\n",
            "Epoch 03 | loss 0.0019 | student-acc 1.0000\n",
            "Epoch 04 | loss 0.0011 | student-acc 1.0000\n",
            "Epoch 05 | loss 0.0008 | student-acc 1.0000\n",
            "Epoch 06 | loss 0.0006 | student-acc 1.0000\n",
            "Epoch 07 | loss 0.0005 | student-acc 1.0000\n",
            "Epoch 08 | loss 0.0004 | student-acc 1.0000\n",
            "Epoch 09 | loss 0.0003 | student-acc 1.0000\n",
            "Epoch 10 | loss 0.0003 | student-acc 1.0000\n",
            "Epoch 11 | loss 0.0002 | student-acc 1.0000\n",
            "Epoch 12 | loss 0.0002 | student-acc 1.0000\n",
            "Fold 5 best student accuracy: 1.0000\n",
            "\n",
            "All folds results:\n",
            "[{'fold': 1, 'best_student_acc': 1.0}, {'fold': 2, 'best_student_acc': 1.0}, {'fold': 3, 'best_student_acc': 1.0}, {'fold': 4, 'best_student_acc': 1.0}, {'fold': 5, 'best_student_acc': 1.0}]\n",
            "\n",
            "Mean per-student accuracy across folds: 1.0000\n"
          ]
        }
      ]
    },
    {
      "cell_type": "code",
      "source": [
        "#Evaluate final saved best model on one fold (the last)\n",
        "import json\n",
        "last_fold = fold_results[-1][\"fold\"]\n",
        "ckpt_path = f\"outputs/transformer_fold{last_fold}_best.pth\"\n",
        "model = SimpleEEGTransformer(n_channels=all_epochs.shape[2], n_classes=3).to(device)\n",
        "model.load_state_dict(torch.load(ckpt_path, map_location=device))\n",
        "model.eval()\n",
        "\n",
        "# pick the last test split (we still have gkf object earlier; recompute one split to retrieve indices)\n",
        "splits = list(GroupKFold(n_splits=5).split(all_epochs, y_num, groups))\n",
        "train_idx, test_idx = splits[-1]\n",
        "X_te, y_te, g_te = all_epochs[test_idx], y_num[test_idx], groups[test_idx]\n",
        "\n",
        "te_ds = EEGEpochDataset(X_te, y_te, augment=False)\n",
        "te_loader = DataLoader(te_ds, batch_size=128, shuffle=False)\n",
        "\n",
        "# per-epoch preds\n",
        "y_pred_epoch = []\n",
        "y_true_epoch = []\n",
        "with torch.no_grad():\n",
        "    for xb, yb in te_loader:\n",
        "        xb = xb.to(device)\n",
        "        out = model(xb)\n",
        "        p = out.argmax(dim=1).cpu().numpy()\n",
        "        y_pred_epoch.extend(p.tolist())\n",
        "        y_true_epoch.extend(yb.numpy().tolist())\n",
        "\n",
        "# per-student majority vote\n",
        "preds_by_student, true_by_student = {}, {}\n",
        "for idx_local, global_idx in enumerate(test_idx):\n",
        "    student = int(groups[global_idx])\n",
        "    preds_by_student.setdefault(student, []).append(y_pred_epoch[idx_local])\n",
        "    true_by_student.setdefault(student, []).append(y_true_epoch[idx_local])\n",
        "\n",
        "y_true_students, y_pred_students = [], []\n",
        "for student in preds_by_student:\n",
        "    pred = max(set(preds_by_student[student]), key=preds_by_student[student].count)\n",
        "    true = max(set(true_by_student[student]), key=true_by_student[student].count)\n",
        "    y_true_students.append(true); y_pred_students.append(pred)\n",
        "\n",
        "print(\"Per-student classification report:\")\n",
        "print(classification_report(y_true_students, y_pred_students, target_names=[\"Naive\",\"Developing\",\"Sophisticated\"]))\n",
        "cm = confusion_matrix(y_true_students, y_pred_students)\n",
        "plt.figure(figsize=(5,4)); sns.heatmap(cm, annot=True, fmt=\"d\", cmap=\"Blues\",\n",
        "            xticklabels=[\"Naive\",\"Developing\",\"Sophisticated\"],\n",
        "            yticklabels=[\"Naive\",\"Developing\",\"Sophisticated\"])\n",
        "plt.xlabel(\"Predicted\"); plt.ylabel(\"True\"); plt.title(\"Per-student Confusion Matrix\"); plt.show()\n"
      ],
      "metadata": {
        "colab": {
          "base_uri": "https://localhost:8080/",
          "height": 601
        },
        "id": "LmzgltsvBj0-",
        "outputId": "e5236ccb-f684-4543-e381-2cc8b9372c8e"
      },
      "execution_count": 25,
      "outputs": [
        {
          "output_type": "stream",
          "name": "stdout",
          "text": [
            "Per-student classification report:\n",
            "               precision    recall  f1-score   support\n",
            "\n",
            "        Naive       1.00      1.00      1.00       144\n",
            "   Developing       1.00      1.00      1.00        36\n",
            "Sophisticated       1.00      1.00      1.00        20\n",
            "\n",
            "     accuracy                           1.00       200\n",
            "    macro avg       1.00      1.00      1.00       200\n",
            " weighted avg       1.00      1.00      1.00       200\n",
            "\n"
          ]
        },
        {
          "output_type": "display_data",
          "data": {
            "text/plain": [
              "<Figure size 500x400 with 2 Axes>"
            ],
            "image/png": "[encoded data removed]"
          },
          "metadata": {}
        }
      ]
    },
    {
      "cell_type": "code",
      "source": [
        "y_true_students\n",
        "y_pred_students\n",
        "groups\n",
        "label_to_num = {\"Naive\":0, \"Developing\":1, \"Sophisticated\":2}\n"
      ],
      "metadata": {
        "id": "SBoAfxf8CVaV"
      },
      "execution_count": 24,
      "outputs": []
    },
    {
      "cell_type": "code",
      "source": [
        "# Map numeric predictions back to text labels\n",
        "num_to_label = {0:\"Naive\", 1:\"Developing\", 2:\"Sophisticated\"}\n",
        "\n",
        "# Use the student IDs corresponding to the predictions in this fold\n",
        "students_in_fold = list(preds_by_student.keys())\n",
        "\n",
        "student_results = pd.DataFrame({\n",
        "    \"student_id\": students_in_fold,\n",
        "    \"predicted_class_num\": y_pred_students,\n",
        "    \"predicted_class\": [num_to_label[i] for i in y_pred_students],\n",
        "    \"true_class_num\": y_true_students,\n",
        "    \"true_class\": [num_to_label[i] for i in y_true_students]\n",
        "})\n",
        "\n",
        "print(\"Per-student predicted cognition class:\")\n",
        "print(student_results.head(10))\n"
      ],
      "metadata": {
        "colab": {
          "base_uri": "https://localhost:8080/"
        },
        "id": "DMKC-pqCCXVK",
        "outputId": "99f30584-dbc6-403b-9231-dbfe31a619e8"
      },
      "execution_count": 23,
      "outputs": [
        {
          "output_type": "stream",
          "name": "stdout",
          "text": [
            "Per-student predicted cognition class:\n",
            "   student_id  predicted_class_num predicted_class  true_class_num  \\\n",
            "0           4                    0           Naive               0   \n",
            "1          10                    0           Naive               0   \n",
            "2          15                    0           Naive               0   \n",
            "3          16                    2   Sophisticated               2   \n",
            "4          21                    1      Developing               1   \n",
            "5          27                    0           Naive               0   \n",
            "6          33                    0           Naive               0   \n",
            "7          38                    1      Developing               1   \n",
            "8          44                    0           Naive               0   \n",
            "9          50                    0           Naive               0   \n",
            "\n",
            "      true_class  \n",
            "0          Naive  \n",
            "1          Naive  \n",
            "2          Naive  \n",
            "3  Sophisticated  \n",
            "4     Developing  \n",
            "5          Naive  \n",
            "6          Naive  \n",
            "7     Developing  \n",
            "8          Naive  \n",
            "9          Naive  \n"
          ]
        }
      ]
    },
    {
      "cell_type": "code",
      "source": [
        "student_id = 1\n",
        "predicted_class = student_results.loc[student_results[\"student_id\"] == student_id, \"predicted_class\"].values[0] if not student_results.loc[student_results[\"student_id\"] == student_id].empty else None\n",
        "\n",
        "print(f\"Student {student_id} belongs to class: {predicted_class}\")\n"
      ],
      "metadata": {
        "colab": {
          "base_uri": "https://localhost:8080/"
        },
        "id": "y6WTnqv_CPal",
        "outputId": "8b66fa69-55f3-4d73-bf61-f9fcf02745ce"
      },
      "execution_count": 22,
      "outputs": [
        {
          "output_type": "stream",
          "name": "stdout",
          "text": [
            "Student 1 belongs to class: None\n"
          ]
        }
      ]
    }
  ]
}